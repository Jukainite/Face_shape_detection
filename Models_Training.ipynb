{
 "cells": [
  {
   "cell_type": "code",
   "execution_count": null,
   "metadata": {},
   "outputs": [],
   "source": [
    "\n",
    "import pandas as pd\n",
    "from sklearn.preprocessing import LabelEncoder\n",
    "from sklearn.ensemble import RandomForestClassifier\n",
    "from sklearn.metrics import classification_report, accuracy_score\n",
    "import joblib"
   ]
  },
  {
   "cell_type": "code",
   "execution_count": null,
   "metadata": {},
   "outputs": [
    {
     "name": "stdout",
     "output_type": "stream",
     "text": [
      "Train size: (3999, 20)\n",
      "Test size: (1000, 20)\n"
     ]
    }
   ],
   "source": [
    "# Read from CSV\n",
    "train_df = pd.read_csv(\"Train_data.csv\")\n",
    "test_df = pd.read_csv(\"Test_data.csv\")\n",
    "\n",
    "print(\"Train size:\", train_df.shape)\n",
    "print(\"Test size:\", test_df.shape)\n",
    "\n"
   ]
  },
  {
   "cell_type": "code",
   "execution_count": 37,
   "metadata": {},
   "outputs": [
    {
     "name": "stdout",
     "output_type": "stream",
     "text": [
      "Labels: ['Heart' 'Oblong' 'Oval' 'Round' 'Square']\n"
     ]
    }
   ],
   "source": [
    "# Separate features and labels, convert labels to numbers if needed\n",
    "\n",
    "features = train_df.columns.difference(['label']).tolist()\n",
    "\n",
    "\n",
    "# Use LabelEncoder for encoding the label\n",
    "le = LabelEncoder()\n",
    "y_train = le.fit_transform(train_df['label'])\n",
    "y_test = le.transform(test_df['label'])\n",
    "\n",
    "X_train = train_df[features].values\n",
    "X_test = test_df[features].values\n",
    "\n",
    "print(\"Labels:\", le.classes_)\n"
   ]
  },
  {
   "cell_type": "code",
   "execution_count": 38,
   "metadata": {},
   "outputs": [
    {
     "data": {
      "text/plain": [
       "['RBot',\n",
       " 'RTop',\n",
       " 'RTop_RBot_diff',\n",
       " 'cheekbone_width',\n",
       " 'chin_angle',\n",
       " 'chin_distance',\n",
       " 'fAR',\n",
       " 'face_length',\n",
       " 'face_rectangularity',\n",
       " 'forehead_distance',\n",
       " 'forehead_rectangularity',\n",
       " 'forehead_width',\n",
       " 'jawline_width',\n",
       " 'left_cheek_angle',\n",
       " 'left_cheek_distance',\n",
       " 'middle_face_rectangularity',\n",
       " 'right_cheek_angle',\n",
       " 'right_cheek_distance',\n",
       " 'top_jaw_distance']"
      ]
     },
     "execution_count": 38,
     "metadata": {},
     "output_type": "execute_result"
    }
   ],
   "source": [
    "features"
   ]
  },
  {
   "cell_type": "code",
   "execution_count": 39,
   "metadata": {},
   "outputs": [
    {
     "data": {
      "text/plain": [
       "19"
      ]
     },
     "execution_count": 39,
     "metadata": {},
     "output_type": "execute_result"
    }
   ],
   "source": [
    "len(features)"
   ]
  },
  {
   "cell_type": "code",
   "execution_count": null,
   "metadata": {},
   "outputs": [
    {
     "name": "stdout",
     "output_type": "stream",
     "text": [
      "=== Random Forest Classifier ===\n",
      "Accuracy: 0.46\n",
      "Classification Report:\n",
      "              precision    recall  f1-score   support\n",
      "\n",
      "       Heart       0.42      0.49      0.45       200\n",
      "      Oblong       0.47      0.47      0.47       200\n",
      "        Oval       0.38      0.30      0.33       200\n",
      "       Round       0.46      0.36      0.40       200\n",
      "      Square       0.54      0.67      0.60       200\n",
      "\n",
      "    accuracy                           0.46      1000\n",
      "   macro avg       0.45      0.46      0.45      1000\n",
      "weighted avg       0.45      0.46      0.45      1000\n",
      "\n"
     ]
    }
   ],
   "source": [
    "# Training and Evaluation of Random Forest Classifier\n",
    "rf_model = RandomForestClassifier(n_estimators=500, random_state=42)\n",
    "\n",
    "rf_model.fit(X_train, y_train)\n",
    "\n",
    "# Prediction on test set\n",
    "y_pred_rf = rf_model.predict(X_test)\n",
    "\n",
    "#evaluation Metrics\n",
    "print(\"=== Random Forest Classifier ===\")\n",
    "print(\"Accuracy: {:.2f}\".format(accuracy_score(y_test, y_pred_rf)))\n",
    "print(\"Classification Report:\")\n",
    "print(classification_report(y_test, y_pred_rf, target_names=le.classes_))\n",
    "\n"
   ]
  },
  {
   "cell_type": "code",
   "execution_count": null,
   "metadata": {},
   "outputs": [
    {
     "name": "stdout",
     "output_type": "stream",
     "text": [
      "Saved Random Forest model as: rf_model.pkl\n"
     ]
    }
   ],
   "source": [
    "rf_model_filename = \"models/rf_model.pkl\"\n",
    "\n",
    "\n",
    "joblib.dump(rf_model, rf_model_filename)\n",
    "\n",
    "joblib.dump(le, \"models/label_encoder.pkl\")\n",
    "print(f\"Saved Random Forest model as: {rf_model_filename}\")"
   ]
  },
  {
   "cell_type": "code",
   "execution_count": null,
   "metadata": {},
   "outputs": [],
   "source": []
  }
 ],
 "metadata": {
  "kernelspec": {
   "display_name": ".venv",
   "language": "python",
   "name": "python3"
  },
  "language_info": {
   "codemirror_mode": {
    "name": "ipython",
    "version": 3
   },
   "file_extension": ".py",
   "mimetype": "text/x-python",
   "name": "python",
   "nbconvert_exporter": "python",
   "pygments_lexer": "ipython3",
   "version": "3.10.0"
  }
 },
 "nbformat": 4,
 "nbformat_minor": 2
}
